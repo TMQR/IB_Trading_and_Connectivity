{
 "cells": [
  {
   "cell_type": "markdown",
   "metadata": {},
   "source": [
    "## Links for IB trading and connectivity."
   ]
  },
  {
   "cell_type": "markdown",
   "metadata": {},
   "source": [
    "##### To find Symbols and Product descriptions\n",
    " https://misc.interactivebrokers.com/cstools/contract_info/v3.10/index.php?site=IB&action=Top+Search&symbol=ES&description=ES\n",
    " \n",
    "##### order submission example\n",
    "https://pythonprogramming.net/ibpy-tutorial-using-interactive-brokers-api-python/"
   ]
  },
  {
   "cell_type": "markdown",
   "metadata": {},
   "source": [
    "## Alternative IB package ib_insync\n",
    "https://github.com/erdewit/ib_insync/blob/master/README.rst\n",
    "\n",
    "The ib_insync package is build on top of the Python API from Interactive Brokers. The objective is to make it as easy as possible to use the API to its fullest extent.\n",
    "\n",
    "The main features are:\n",
    "\n",
    "An IB component that automatically keeps in sync;\n",
    "An easy to use linear style of programming (no more callbacks);\n",
    "A fully asynchonous framework based on asyncio for advanced users;\n",
    "Interactive operation with live data in Jupyter notebooks.\n",
    "\n",
    "documentation for ib_insync\n",
    "\n",
    "https://rawgit.com/erdewit/ib_insync/master/docs/html/notebooks.html"
   ]
  },
  {
   "cell_type": "code",
   "execution_count": null,
   "metadata": {},
   "outputs": [],
   "source": []
  },
  {
   "cell_type": "code",
   "execution_count": 93,
   "metadata": {},
   "outputs": [],
   "source": [
    "import pandas as pd \n",
    "import numpy as np\n",
    "import matplotlib\n",
    "import xlwings as xw\n",
    "import bt\n",
    "import ffn\n",
    "import seaborn as sn\n",
    "# import cufflink as cf\n",
    "\n",
    "sn.set(palette='dark')"
   ]
  },
  {
   "cell_type": "code",
   "execution_count": 75,
   "metadata": {},
   "outputs": [],
   "source": [
    "# ib.disconnect() #always disconnet after session"
   ]
  },
  {
   "cell_type": "code",
   "execution_count": 77,
   "metadata": {
    "scrolled": true
   },
   "outputs": [
    {
     "data": {
      "text/plain": [
       "<IB connected to 127.0.0.1:4001 clientId=2>"
      ]
     },
     "execution_count": 77,
     "metadata": {},
     "output_type": "execute_result"
    }
   ],
   "source": [
    "from ib_insync import *\n",
    "util.startLoop()  # uncomment this line when in a notebook\n",
    "\n",
    "ib = IB()\n",
    "ib.connect('127.0.0.1', 4001, clientId=2)"
   ]
  },
  {
   "cell_type": "markdown",
   "metadata": {},
   "source": [
    "## Calling Historical Bars from ib_insync"
   ]
  },
  {
   "cell_type": "code",
   "execution_count": 127,
   "metadata": {
    "scrolled": false
   },
   "outputs": [
    {
     "data": {
      "text/html": [
       "<div>\n",
       "<style scoped>\n",
       "    .dataframe tbody tr th:only-of-type {\n",
       "        vertical-align: middle;\n",
       "    }\n",
       "\n",
       "    .dataframe tbody tr th {\n",
       "        vertical-align: top;\n",
       "    }\n",
       "\n",
       "    .dataframe thead th {\n",
       "        text-align: right;\n",
       "    }\n",
       "</style>\n",
       "<table border=\"1\" class=\"dataframe\">\n",
       "  <thead>\n",
       "    <tr style=\"text-align: right;\">\n",
       "      <th></th>\n",
       "      <th>open</th>\n",
       "      <th>high</th>\n",
       "      <th>low</th>\n",
       "      <th>close</th>\n",
       "      <th>volume</th>\n",
       "      <th>barCount</th>\n",
       "      <th>average</th>\n",
       "    </tr>\n",
       "    <tr>\n",
       "      <th>date</th>\n",
       "      <th></th>\n",
       "      <th></th>\n",
       "      <th></th>\n",
       "      <th></th>\n",
       "      <th></th>\n",
       "      <th></th>\n",
       "      <th></th>\n",
       "    </tr>\n",
       "  </thead>\n",
       "  <tbody>\n",
       "    <tr>\n",
       "      <th>2019-01-31 14:23:00</th>\n",
       "      <td>108.8465</td>\n",
       "      <td>108.8570</td>\n",
       "      <td>108.8415</td>\n",
       "      <td>108.8560</td>\n",
       "      <td>-1</td>\n",
       "      <td>-1</td>\n",
       "      <td>-1.0</td>\n",
       "    </tr>\n",
       "    <tr>\n",
       "      <th>2019-01-31 14:24:00</th>\n",
       "      <td>108.8560</td>\n",
       "      <td>108.8560</td>\n",
       "      <td>108.8535</td>\n",
       "      <td>108.8545</td>\n",
       "      <td>-1</td>\n",
       "      <td>-1</td>\n",
       "      <td>-1.0</td>\n",
       "    </tr>\n",
       "    <tr>\n",
       "      <th>2019-01-31 14:25:00</th>\n",
       "      <td>108.8545</td>\n",
       "      <td>108.8545</td>\n",
       "      <td>108.8370</td>\n",
       "      <td>108.8375</td>\n",
       "      <td>-1</td>\n",
       "      <td>-1</td>\n",
       "      <td>-1.0</td>\n",
       "    </tr>\n",
       "    <tr>\n",
       "      <th>2019-01-31 14:26:00</th>\n",
       "      <td>108.8375</td>\n",
       "      <td>108.8375</td>\n",
       "      <td>108.8085</td>\n",
       "      <td>108.8225</td>\n",
       "      <td>-1</td>\n",
       "      <td>-1</td>\n",
       "      <td>-1.0</td>\n",
       "    </tr>\n",
       "    <tr>\n",
       "      <th>2019-01-31 14:27:00</th>\n",
       "      <td>108.8225</td>\n",
       "      <td>108.8255</td>\n",
       "      <td>108.8220</td>\n",
       "      <td>108.8225</td>\n",
       "      <td>-1</td>\n",
       "      <td>-1</td>\n",
       "      <td>-1.0</td>\n",
       "    </tr>\n",
       "  </tbody>\n",
       "</table>\n",
       "</div>"
      ],
      "text/plain": [
       "                         open      high       low     close  volume  barCount  \\\n",
       "date                                                                            \n",
       "2019-01-31 14:23:00  108.8465  108.8570  108.8415  108.8560      -1        -1   \n",
       "2019-01-31 14:24:00  108.8560  108.8560  108.8535  108.8545      -1        -1   \n",
       "2019-01-31 14:25:00  108.8545  108.8545  108.8370  108.8375      -1        -1   \n",
       "2019-01-31 14:26:00  108.8375  108.8375  108.8085  108.8225      -1        -1   \n",
       "2019-01-31 14:27:00  108.8225  108.8255  108.8220  108.8225      -1        -1   \n",
       "\n",
       "                     average  \n",
       "date                          \n",
       "2019-01-31 14:23:00     -1.0  \n",
       "2019-01-31 14:24:00     -1.0  \n",
       "2019-01-31 14:25:00     -1.0  \n",
       "2019-01-31 14:26:00     -1.0  \n",
       "2019-01-31 14:27:00     -1.0  "
      ]
     },
     "execution_count": 127,
     "metadata": {},
     "output_type": "execute_result"
    },
    {
     "data": {
      "image/png": "[encoded data removed]",
      "text/plain": [
       "<Figure size 432x288 with 1 Axes>"
      ]
     },
     "metadata": {},
     "output_type": "display_data"
    }
   ],
   "source": [
    "\n",
    "#Pull the first Product\n",
    "contract1 = Forex('USDJPY')  #Future('ES', '201903', 'GLOBEX')\n",
    "bars1 = ib.reqHistoricalData(contract1, endDateTime='', durationStr='5 D',\n",
    "        barSizeSetting='1 min', whatToShow='MIDPOINT', useRTH=True)\n",
    "\n",
    "# convert to pandas dataframe:\n",
    "df = util.df(bars1)\n",
    "# print(df1[['date', 'open', 'high', 'low', 'close']])\n",
    "df.index = pd.to_datetime(df.date)\n",
    "df.pop('date')\n",
    "df.tail()\n",
    "df['close'].plot(title= '1 min bars on the USDJPY for the past n days')\n",
    "\n",
    "df1 = df\n",
    "df1.tail()"
   ]
  },
  {
   "cell_type": "code",
   "execution_count": 128,
   "metadata": {},
   "outputs": [
    {
     "data": {
      "text/html": [
       "<div>\n",
       "<style scoped>\n",
       "    .dataframe tbody tr th:only-of-type {\n",
       "        vertical-align: middle;\n",
       "    }\n",
       "\n",
       "    .dataframe tbody tr th {\n",
       "        vertical-align: top;\n",
       "    }\n",
       "\n",
       "    .dataframe thead th {\n",
       "        text-align: right;\n",
       "    }\n",
       "</style>\n",
       "<table border=\"1\" class=\"dataframe\">\n",
       "  <thead>\n",
       "    <tr style=\"text-align: right;\">\n",
       "      <th></th>\n",
       "      <th>open</th>\n",
       "      <th>high</th>\n",
       "      <th>low</th>\n",
       "      <th>close</th>\n",
       "      <th>volume</th>\n",
       "      <th>barCount</th>\n",
       "      <th>average</th>\n",
       "    </tr>\n",
       "    <tr>\n",
       "      <th>date</th>\n",
       "      <th></th>\n",
       "      <th></th>\n",
       "      <th></th>\n",
       "      <th></th>\n",
       "      <th></th>\n",
       "      <th></th>\n",
       "      <th></th>\n",
       "    </tr>\n",
       "  </thead>\n",
       "  <tbody>\n",
       "    <tr>\n",
       "      <th>2019-01-31 14:23:00</th>\n",
       "      <td>1.144685</td>\n",
       "      <td>1.144695</td>\n",
       "      <td>1.144670</td>\n",
       "      <td>1.144695</td>\n",
       "      <td>-1</td>\n",
       "      <td>-1</td>\n",
       "      <td>-1.0</td>\n",
       "    </tr>\n",
       "    <tr>\n",
       "      <th>2019-01-31 14:24:00</th>\n",
       "      <td>1.144695</td>\n",
       "      <td>1.144695</td>\n",
       "      <td>1.144675</td>\n",
       "      <td>1.144675</td>\n",
       "      <td>-1</td>\n",
       "      <td>-1</td>\n",
       "      <td>-1.0</td>\n",
       "    </tr>\n",
       "    <tr>\n",
       "      <th>2019-01-31 14:25:00</th>\n",
       "      <td>1.144680</td>\n",
       "      <td>1.144700</td>\n",
       "      <td>1.144515</td>\n",
       "      <td>1.144520</td>\n",
       "      <td>-1</td>\n",
       "      <td>-1</td>\n",
       "      <td>-1.0</td>\n",
       "    </tr>\n",
       "    <tr>\n",
       "      <th>2019-01-31 14:26:00</th>\n",
       "      <td>1.144520</td>\n",
       "      <td>1.144665</td>\n",
       "      <td>1.144520</td>\n",
       "      <td>1.144540</td>\n",
       "      <td>-1</td>\n",
       "      <td>-1</td>\n",
       "      <td>-1.0</td>\n",
       "    </tr>\n",
       "    <tr>\n",
       "      <th>2019-01-31 14:27:00</th>\n",
       "      <td>1.144540</td>\n",
       "      <td>1.144570</td>\n",
       "      <td>1.144535</td>\n",
       "      <td>1.144560</td>\n",
       "      <td>-1</td>\n",
       "      <td>-1</td>\n",
       "      <td>-1.0</td>\n",
       "    </tr>\n",
       "  </tbody>\n",
       "</table>\n",
       "</div>"
      ],
      "text/plain": [
       "                         open      high       low     close  volume  barCount  \\\n",
       "date                                                                            \n",
       "2019-01-31 14:23:00  1.144685  1.144695  1.144670  1.144695      -1        -1   \n",
       "2019-01-31 14:24:00  1.144695  1.144695  1.144675  1.144675      -1        -1   \n",
       "2019-01-31 14:25:00  1.144680  1.144700  1.144515  1.144520      -1        -1   \n",
       "2019-01-31 14:26:00  1.144520  1.144665  1.144520  1.144540      -1        -1   \n",
       "2019-01-31 14:27:00  1.144540  1.144570  1.144535  1.144560      -1        -1   \n",
       "\n",
       "                     average  \n",
       "date                          \n",
       "2019-01-31 14:23:00     -1.0  \n",
       "2019-01-31 14:24:00     -1.0  \n",
       "2019-01-31 14:25:00     -1.0  \n",
       "2019-01-31 14:26:00     -1.0  \n",
       "2019-01-31 14:27:00     -1.0  "
      ]
     },
     "execution_count": 128,
     "metadata": {},
     "output_type": "execute_result"
    },
    {
     "data": {
      "image/png": "[encoded data removed]",
      "text/plain": [
       "<Figure size 432x288 with 1 Axes>"
      ]
     },
     "metadata": {},
     "output_type": "display_data"
    }
   ],
   "source": [
    "\n",
    "#Pull the second Product\n",
    "contract2= Forex('EURUSD')  #Future('ES', '201903', 'GLOBEX')\n",
    "bars2 = ib.reqHistoricalData(contract2, endDateTime='', durationStr='5 D',\n",
    "        barSizeSetting='1 min', whatToShow='MIDPOINT', useRTH=True)\n",
    "\n",
    "# convert to pandas dataframe:\n",
    "df = util.df(bars2)\n",
    "# print(df2[['date', 'open', 'high', 'low', 'close']])\n",
    "df.index = pd.to_datetime(df.date)\n",
    "df.pop('date')\n",
    "df.tail()\n",
    "df['close'].plot(title= '1 min bars on the EURUSD for the past n days')\n",
    "\n",
    "df2 = df\n",
    "df2.tail()"
   ]
  },
  {
   "cell_type": "code",
   "execution_count": null,
   "metadata": {},
   "outputs": [],
   "source": []
  },
  {
   "cell_type": "markdown",
   "metadata": {},
   "source": [
    "## interacting with Excel"
   ]
  },
  {
   "cell_type": "code",
   "execution_count": 99,
   "metadata": {},
   "outputs": [],
   "source": [
    "import xlwings as xw"
   ]
  },
  {
   "cell_type": "code",
   "execution_count": 100,
   "metadata": {},
   "outputs": [],
   "source": [
    "wb = xw.Book('IB_Bar_Data.xlsx') # this will create a new workbook\n",
    "# connect to an existing file in the current working directory\n",
    "#wb = xw.Book('FileName.xlsx')  \n",
    "# on Windows: use raw strings to escape backslashes\n",
    "#wb = xw.Book(r'C:\\path\\to\\file.xlsx')  "
   ]
  },
  {
   "cell_type": "code",
   "execution_count": 101,
   "metadata": {},
   "outputs": [],
   "source": [
    "df1  = df1['close'].to_frame()\n",
    "df2  = df2['close'].to_frame()\n"
   ]
  },
  {
   "cell_type": "code",
   "execution_count": 108,
   "metadata": {},
   "outputs": [
    {
     "data": {
      "text/html": [
       "<div>\n",
       "<style scoped>\n",
       "    .dataframe tbody tr th:only-of-type {\n",
       "        vertical-align: middle;\n",
       "    }\n",
       "\n",
       "    .dataframe tbody tr th {\n",
       "        vertical-align: top;\n",
       "    }\n",
       "\n",
       "    .dataframe thead th {\n",
       "        text-align: right;\n",
       "    }\n",
       "</style>\n",
       "<table border=\"1\" class=\"dataframe\">\n",
       "  <thead>\n",
       "    <tr style=\"text-align: right;\">\n",
       "      <th></th>\n",
       "      <th>USDJPY</th>\n",
       "      <th>EURUSD</th>\n",
       "    </tr>\n",
       "    <tr>\n",
       "      <th>date</th>\n",
       "      <th></th>\n",
       "      <th></th>\n",
       "    </tr>\n",
       "  </thead>\n",
       "  <tbody>\n",
       "    <tr>\n",
       "      <th>2019-01-31 13:57:00</th>\n",
       "      <td>108.8530</td>\n",
       "      <td>1.144680</td>\n",
       "    </tr>\n",
       "    <tr>\n",
       "      <th>2019-01-31 13:58:00</th>\n",
       "      <td>108.8620</td>\n",
       "      <td>1.144755</td>\n",
       "    </tr>\n",
       "    <tr>\n",
       "      <th>2019-01-31 13:59:00</th>\n",
       "      <td>108.8800</td>\n",
       "      <td>1.144715</td>\n",
       "    </tr>\n",
       "    <tr>\n",
       "      <th>2019-01-31 14:15:00</th>\n",
       "      <td>108.8250</td>\n",
       "      <td>1.144775</td>\n",
       "    </tr>\n",
       "    <tr>\n",
       "      <th>2019-01-31 14:16:00</th>\n",
       "      <td>108.8315</td>\n",
       "      <td>1.144780</td>\n",
       "    </tr>\n",
       "  </tbody>\n",
       "</table>\n",
       "</div>"
      ],
      "text/plain": [
       "                       USDJPY    EURUSD\n",
       "date                                   \n",
       "2019-01-31 13:57:00  108.8530  1.144680\n",
       "2019-01-31 13:58:00  108.8620  1.144755\n",
       "2019-01-31 13:59:00  108.8800  1.144715\n",
       "2019-01-31 14:15:00  108.8250  1.144775\n",
       "2019-01-31 14:16:00  108.8315  1.144780"
      ]
     },
     "execution_count": 108,
     "metadata": {},
     "output_type": "execute_result"
    }
   ],
   "source": [
    "\n",
    "#merge the two timeseries\n",
    "df1.columns = ['USDJPY']\n",
    "df2.columns = ['EURUSD']\n",
    "\n",
    "df = bt.merge(df1, df2)\n",
    "df.tail()"
   ]
  },
  {
   "cell_type": "code",
   "execution_count": 114,
   "metadata": {},
   "outputs": [],
   "source": [
    "df_re = ffn.rebase(df)"
   ]
  },
  {
   "cell_type": "code",
   "execution_count": 115,
   "metadata": {},
   "outputs": [],
   "source": [
    "sht = wb.sheets['Sheet1']"
   ]
  },
  {
   "cell_type": "code",
   "execution_count": 116,
   "metadata": {},
   "outputs": [],
   "source": [
    "sht.range('A1').value = df"
   ]
  },
  {
   "cell_type": "code",
   "execution_count": 119,
   "metadata": {},
   "outputs": [
    {
     "data": {
      "text/plain": [
       "<Picture 'MyPlot' in <Sheet [IB_Bar_Data.xlsx]Sheet1>>"
      ]
     },
     "execution_count": 119,
     "metadata": {},
     "output_type": "execute_result"
    },
    {
     "data": {
      "image/png": "[encoded data removed]",
      "text/plain": [
       "<Figure size 432x288 with 1 Axes>"
      ]
     },
     "metadata": {},
     "output_type": "display_data"
    }
   ],
   "source": [
    "import matplotlib.pyplot as plt\n",
    "fig = plt.figure()\n",
    "plt.plot(df_re,) #\n",
    "plt.xticks(rotation=30)\n",
    "plt.legend('')\n",
    "sht.pictures.add(fig, name='MyPlot', update=True)"
   ]
  },
  {
   "cell_type": "code",
   "execution_count": null,
   "metadata": {},
   "outputs": [],
   "source": [
    "# add a second market to simulate the SP/cash spread."
   ]
  },
  {
   "cell_type": "code",
   "execution_count": null,
   "metadata": {},
   "outputs": [],
   "source": []
  },
  {
   "cell_type": "markdown",
   "metadata": {},
   "source": [
    "## Basics¶\n",
    "\n",
    "A look at what's inside the ib_insync package:"
   ]
  },
  {
   "cell_type": "code",
   "execution_count": null,
   "metadata": {},
   "outputs": [],
   "source": [
    "import ib_insync\n",
    "print(ib_insync.__all__)"
   ]
  },
  {
   "cell_type": "markdown",
   "metadata": {},
   "source": [
    "## Importing\n",
    "The following two lines are used at the top of all notebooks. \n",
    "* The first line imports everything and \n",
    "* the second starts an event loop to keep the notebook live updated:"
   ]
  },
  {
   "cell_type": "code",
   "execution_count": null,
   "metadata": {},
   "outputs": [],
   "source": [
    "from ib_insync import *\n",
    "util.startLoop()"
   ]
  },
  {
   "cell_type": "code",
   "execution_count": null,
   "metadata": {},
   "outputs": [],
   "source": [
    "ib = IB()\n",
    "ib.connect('127.0.0.1', 4001, clientId=2)"
   ]
  },
  {
   "cell_type": "code",
   "execution_count": null,
   "metadata": {},
   "outputs": [],
   "source": [
    "ib.positions()"
   ]
  },
  {
   "cell_type": "code",
   "execution_count": null,
   "metadata": {},
   "outputs": [],
   "source": [
    "[v for v in ib.accountValues() if v.tag == 'NetLiquidationByCurrency' and v.currency == 'BASE']"
   ]
  },
  {
   "cell_type": "markdown",
   "metadata": {},
   "source": [
    "## Contracts\n",
    "Contracts can be specified in different ways:\n",
    "\n",
    "* The ibapi way, by creating an empty Contract object and setting its attributes one by one;\n",
    "* By using Contract and giving the attributes as keyword argument;\n",
    "* By using the specialized Stock, Option, Future, Forex, Index, CFD, Commodity, Bond, FuturesOption, MutualFund or Warrant contracts.\n",
    "Some examples:"
   ]
  },
  {
   "cell_type": "code",
   "execution_count": 120,
   "metadata": {},
   "outputs": [],
   "source": [
    "\n",
    "Contract(conId=270639)\n",
    "Stock('AMD', 'SMART', 'USD')\n",
    "Stock('INTC', 'SMART', 'USD', primaryExchange='NASDAQ')\n",
    "Forex('EURUSD')\n",
    "CFD('IBUS30')\n",
    "Future('ES', '201903', 'GLOBEX')\n",
    "Option('SPY', '20170721', 240, 'C', 'SMART')\n",
    "Bond(secIdType='ISIN', secId='US03076KAA60');"
   ]
  },
  {
   "cell_type": "code",
   "execution_count": 126,
   "metadata": {},
   "outputs": [],
   "source": [
    "contract = Future('ES', '20190315', 'GLOBEX')\n",
    "des = ib.reqContractDetails(contract)"
   ]
  },
  {
   "cell_type": "code",
   "execution_count": 122,
   "metadata": {},
   "outputs": [
    {
     "data": {
      "text/plain": [
       "[ContractDetails(contract=Stock(conId=76792991, symbol='TSLA', exchange='SMART', primaryExchange='NASDAQ', currency='USD', localSymbol='TSLA', tradingClass='NMS'), marketName='NMS', minTick=0.01, orderTypes='ACTIVETIM,ADJUST,ALERT,ALGO,ALLOC,AVGCOST,BASKET,BENCHPX,COND,CONDORDER,DARKONLY,DARKPOLL,DAY,DEACT,DEACTDIS,DEACTEOD,DIS,GAT,GTC,GTD,GTT,HID,IBKRATS,ICE,IMB,IOC,LIT,LMT,LOC,MIT,MKT,MOC,MTL,NGCOMB,NODARK,NONALGO,OCA,OPG,OPGREROUT,PEGBENCH,POSTONLY,PREOPGRTH,REL,RPI,RTH,SCALE,SCALEODD,SCALERST,SNAPMID,SNAPMKT,SNAPREL,STP,STPLMT,SWEEP,TRAIL,TRAILLIT,TRAILLMT,TRAILMIT,WHATIF', validExchanges='SMART,AMEX,NYSE,CBOE,ISE,CHX,ARCA,ISLAND,DRCTEDGE,BEX,BATS,EDGEA,CSFBALGO,JEFFALGO,BYX,IEX,FOXRIVER,TPLUS1,NYSENAT,PSX', priceMagnifier=1, longName='TESLA INC', industry='Consumer, Cyclical', category='Auto Manufacturers', subcategory='Auto-Cars/Light Trucks', timeZoneId='EST5EDT', tradingHours='20190131:0400-20190131:2000;20190201:0400-20190201:2000;20190202:CLOSED;20190203:CLOSED;20190204:0400-20190204:2000;20190205:0400-20190205:2000;20190206:0400-20190206:2000;20190207:0400-20190207:2000;20190208:0400-20190208:2000;20190209:CLOSED;20190210:CLOSED;20190211:0400-20190211:2000;20190212:0400-20190212:2000;20190213:0400-20190213:2000;20190214:0400-20190214:2000;20190215:0400-20190215:2000;20190216:CLOSED;20190217:CLOSED;20190218:0400-20190218:2000;20190219:0400-20190219:2000;20190220:0400-20190220:2000;20190221:0400-20190221:2000;20190222:0400-20190222:2000;20190223:CLOSED;20190224:CLOSED;20190225:0400-20190225:2000;20190226:0400-20190226:2000;20190227:0400-20190227:2000;20190228:0400-20190228:2000;20190301:0400-20190301:2000;20190302:CLOSED;20190303:CLOSED;20190304:0400-20190304:2000;20190305:0400-20190305:2000;20190306:0400-20190306:2000', liquidHours='20190131:0930-20190131:1600;20190201:0930-20190201:1600;20190202:CLOSED;20190203:CLOSED;20190204:0930-20190204:1600;20190205:0930-20190205:1600;20190206:0930-20190206:1600;20190207:0930-20190207:1600;20190208:0930-20190208:1600;20190209:CLOSED;20190210:CLOSED;20190211:0930-20190211:1600;20190212:0930-20190212:1600;20190213:0930-20190213:1600;20190214:0930-20190214:1600;20190215:0930-20190215:1600;20190216:CLOSED;20190217:CLOSED;20190218:0930-20190218:1600;20190219:0930-20190219:1600;20190220:0930-20190220:1600;20190221:0930-20190221:1600;20190222:0930-20190222:1600;20190223:CLOSED;20190224:CLOSED;20190225:0930-20190225:1600;20190226:0930-20190226:1600;20190227:0930-20190227:1600;20190228:0930-20190228:1600;20190301:0930-20190301:1600;20190302:CLOSED;20190303:CLOSED;20190304:0930-20190304:1600;20190305:0930-20190305:1600;20190306:0930-20190306:1600', mdSizeMultiplier=100, aggGroup=1, marketRuleIds='26,26,26,26,26,26,26,26,26,26,26,26,26,26,26,26,26,26,26,26')]"
      ]
     },
     "execution_count": 122,
     "metadata": {},
     "output_type": "execute_result"
    }
   ],
   "source": [
    "\n"
   ]
  },
  {
   "cell_type": "markdown",
   "metadata": {},
   "source": [
    "## Current state vs request\n",
    "\n",
    "Doing a request involves network traffic going up and down and can take considerable time. The current state on the other hand is always immediately available. So it is preferable to use the current state methods over requests. For example, use `ib.openOrders()` in preference over `ib.reqOpenOrders()`, or `ib.positions()` over `ib.reqPositions()`, etc:"
   ]
  },
  {
   "cell_type": "code",
   "execution_count": null,
   "metadata": {},
   "outputs": [],
   "source": [
    "%time l = ib.positions()"
   ]
  },
  {
   "cell_type": "code",
   "execution_count": null,
   "metadata": {},
   "outputs": [],
   "source": [
    "%time l = ib.reqPositions()"
   ]
  },
  {
   "cell_type": "code",
   "execution_count": null,
   "metadata": {},
   "outputs": [],
   "source": [
    "util.logToConsole()"
   ]
  },
  {
   "cell_type": "code",
   "execution_count": null,
   "metadata": {},
   "outputs": [],
   "source": [
    "\n",
    "import logging\n",
    "util.logToConsole(logging.DEBUG)"
   ]
  },
  {
   "cell_type": "code",
   "execution_count": null,
   "metadata": {},
   "outputs": [],
   "source": [
    "\n",
    "ib.disconnect()"
   ]
  },
  {
   "cell_type": "code",
   "execution_count": null,
   "metadata": {},
   "outputs": [],
   "source": [
    "\n",
    "from ib_insync import *\n",
    "util.startLoop()\n",
    "\n",
    "ib = IB()\n",
    "ib.connect('127.0.0.1', 4001, clientId=11)"
   ]
  },
  {
   "cell_type": "code",
   "execution_count": 129,
   "metadata": {},
   "outputs": [
    {
     "data": {
      "text/plain": [
       "1"
      ]
     },
     "execution_count": 129,
     "metadata": {},
     "output_type": "execute_result"
    }
   ],
   "source": [
    "es = Future('ES', '20190315', 'GLOBEX')\n",
    "cds = ib.reqContractDetails(es)\n",
    "len(cds)"
   ]
  },
  {
   "cell_type": "code",
   "execution_count": null,
   "metadata": {},
   "outputs": [],
   "source": [
    "cds[0]"
   ]
  },
  {
   "cell_type": "markdown",
   "metadata": {},
   "source": [
    "## The contract itself is in the 'contract' property of the contract details. Lets make a list of contracts and look at the first:"
   ]
  },
  {
   "cell_type": "code",
   "execution_count": 130,
   "metadata": {},
   "outputs": [
    {
     "data": {
      "text/plain": [
       "Future(conId=299552802, symbol='ES', lastTradeDateOrContractMonth='20190315', multiplier='50', exchange='GLOBEX', currency='USD', localSymbol='ESH9', tradingClass='ES')"
      ]
     },
     "execution_count": 130,
     "metadata": {},
     "output_type": "execute_result"
    }
   ],
   "source": [
    "contracts = [cd.contract for cd in cds]\n",
    "\n",
    "contracts[0]"
   ]
  },
  {
   "cell_type": "code",
   "execution_count": 131,
   "metadata": {},
   "outputs": [
    {
     "data": {
      "text/html": [
       "<div>\n",
       "<style scoped>\n",
       "    .dataframe tbody tr th:only-of-type {\n",
       "        vertical-align: middle;\n",
       "    }\n",
       "\n",
       "    .dataframe tbody tr th {\n",
       "        vertical-align: top;\n",
       "    }\n",
       "\n",
       "    .dataframe thead th {\n",
       "        text-align: right;\n",
       "    }\n",
       "</style>\n",
       "<table border=\"1\" class=\"dataframe\">\n",
       "  <thead>\n",
       "    <tr style=\"text-align: right;\">\n",
       "      <th></th>\n",
       "      <th>secType</th>\n",
       "      <th>conId</th>\n",
       "      <th>symbol</th>\n",
       "      <th>lastTradeDateOrContractMonth</th>\n",
       "      <th>strike</th>\n",
       "      <th>right</th>\n",
       "      <th>multiplier</th>\n",
       "      <th>exchange</th>\n",
       "      <th>primaryExchange</th>\n",
       "      <th>currency</th>\n",
       "      <th>localSymbol</th>\n",
       "      <th>tradingClass</th>\n",
       "      <th>includeExpired</th>\n",
       "      <th>secIdType</th>\n",
       "      <th>secId</th>\n",
       "      <th>comboLegsDescrip</th>\n",
       "      <th>comboLegs</th>\n",
       "      <th>deltaNeutralContract</th>\n",
       "    </tr>\n",
       "  </thead>\n",
       "  <tbody>\n",
       "    <tr>\n",
       "      <th>0</th>\n",
       "      <td>FUT</td>\n",
       "      <td>299552802</td>\n",
       "      <td>ES</td>\n",
       "      <td>20190315</td>\n",
       "      <td>0.0</td>\n",
       "      <td></td>\n",
       "      <td>50</td>\n",
       "      <td>GLOBEX</td>\n",
       "      <td></td>\n",
       "      <td>USD</td>\n",
       "      <td>ESH9</td>\n",
       "      <td>ES</td>\n",
       "      <td>False</td>\n",
       "      <td></td>\n",
       "      <td></td>\n",
       "      <td></td>\n",
       "      <td>None</td>\n",
       "      <td>None</td>\n",
       "    </tr>\n",
       "  </tbody>\n",
       "</table>\n",
       "</div>"
      ],
      "text/plain": [
       "  secType      conId symbol lastTradeDateOrContractMonth  strike right  \\\n",
       "0     FUT  299552802     ES                     20190315     0.0         \n",
       "\n",
       "  multiplier exchange primaryExchange currency localSymbol tradingClass  \\\n",
       "0         50   GLOBEX                      USD        ESH9           ES   \n",
       "\n",
       "   includeExpired secIdType secId comboLegsDescrip comboLegs  \\\n",
       "0           False                                       None   \n",
       "\n",
       "  deltaNeutralContract  \n",
       "0                 None  "
      ]
     },
     "execution_count": 131,
     "metadata": {},
     "output_type": "execute_result"
    }
   ],
   "source": [
    "util.df(contracts)"
   ]
  },
  {
   "cell_type": "code",
   "execution_count": 132,
   "metadata": {},
   "outputs": [
    {
     "data": {
      "text/plain": [
       "{'secType': {'FUT'},\n",
       " 'conId': {299552802},\n",
       " 'symbol': {'ES'},\n",
       " 'lastTradeDateOrContractMonth': {'20190315'},\n",
       " 'strike': {0.0},\n",
       " 'right': {''},\n",
       " 'multiplier': {'50'},\n",
       " 'exchange': {'GLOBEX'},\n",
       " 'primaryExchange': {''},\n",
       " 'currency': {'USD'},\n",
       " 'localSymbol': {'ESH9'},\n",
       " 'tradingClass': {'ES'},\n",
       " 'includeExpired': {False},\n",
       " 'secIdType': {''},\n",
       " 'secId': {''},\n",
       " 'comboLegsDescrip': {''},\n",
       " 'comboLegs': {None},\n",
       " 'deltaNeutralContract': {None}}"
      ]
     },
     "execution_count": 132,
     "metadata": {},
     "output_type": "execute_result"
    }
   ],
   "source": [
    "{key: set(getattr(c, key) for c in contracts) for key in Contract.defaults}"
   ]
  },
  {
   "cell_type": "code",
   "execution_count": null,
   "metadata": {},
   "outputs": [],
   "source": [
    "\n",
    "ib.disconnect()"
   ]
  },
  {
   "cell_type": "code",
   "execution_count": null,
   "metadata": {},
   "outputs": [],
   "source": [
    "\n"
   ]
  },
  {
   "cell_type": "markdown",
   "metadata": {},
   "source": [
    "# Streaming tick data\n",
    "\n",
    "https://github.com/erdewit/ib_insync/blob/master/notebooks/tick_data.ipynb\n",
    "\n",
    "Create some Forex contracts:"
   ]
  },
  {
   "cell_type": "code",
   "execution_count": 142,
   "metadata": {},
   "outputs": [],
   "source": [
    "contracts = [Forex(pair) for pair \n",
    "             in 'EURUSD USDJPY GBPUSD USDCHF USDCAD AUDUSD'.split()]\n",
    "\n",
    "eurusd = contracts[0]"
   ]
  },
  {
   "cell_type": "code",
   "execution_count": 145,
   "metadata": {},
   "outputs": [],
   "source": [
    "for contract in contracts :\n",
    "    ib.reqMktData(contract, '', False, False)"
   ]
  },
  {
   "cell_type": "code",
   "execution_count": 146,
   "metadata": {},
   "outputs": [
    {
     "data": {
      "text/plain": [
       "[Forex('EURUSD', exchange='IDEALPRO'),\n",
       " Forex('USDJPY', exchange='IDEALPRO'),\n",
       " Forex('GBPUSD', exchange='IDEALPRO'),\n",
       " Forex('USDCHF', exchange='IDEALPRO'),\n",
       " Forex('USDCAD', exchange='IDEALPRO'),\n",
       " Forex('AUDUSD', exchange='IDEALPRO')]"
      ]
     },
     "execution_count": 146,
     "metadata": {},
     "output_type": "execute_result"
    }
   ],
   "source": [
    "contracts"
   ]
  },
  {
   "cell_type": "code",
   "execution_count": 151,
   "metadata": {},
   "outputs": [
    {
     "data": {
      "text/plain": [
       "Ticker(contract=Forex('EURUSD', exchange='IDEALPRO'), time=datetime.datetime(2019, 1, 31, 22, 34, 40, 364597, tzinfo=datetime.timezone.utc), bid=1.14452, bidSize=3000000, ask=1.1446, askSize=1000000, prevBid=1.14453, prevBidSize=6000000, prevAsk=1.14457, prevAskSize=500000, high=1.1448, low=1.14445, close=1.1449, ticks=[], tickByTicks=[], domBids=[], domAsks=[], domTicks=[])"
      ]
     },
     "execution_count": 151,
     "metadata": {},
     "output_type": "execute_result"
    }
   ],
   "source": [
    "ticker = ib.ticker(eurusd)\n",
    "ib.sleep(2)\n",
    "\n",
    "ticker"
   ]
  },
  {
   "cell_type": "code",
   "execution_count": 152,
   "metadata": {},
   "outputs": [
    {
     "data": {
      "text/plain": [
       "1.14456"
      ]
     },
     "execution_count": 152,
     "metadata": {},
     "output_type": "execute_result"
    }
   ],
   "source": [
    "ticker.marketPrice()"
   ]
  },
  {
   "cell_type": "markdown",
   "metadata": {},
   "source": [
    "##### The following cell will start a 30 second loop that prints a live updated ticker table. It is updated on every ticker change."
   ]
  },
  {
   "cell_type": "code",
   "execution_count": 157,
   "metadata": {},
   "outputs": [],
   "source": [
    "# from IPython.display import display, clear_output\n",
    "# import pandas as pd\n",
    "\n",
    "# df = pd.DataFrame(columns='symbol bidSize bid ask askSize high low close'.split())\n",
    "# df['symbol'] = [c.symbol + c.currency for c in contracts]\n",
    "# contract2Row = {c: i for (i, c) in enumerate(contracts)}\n",
    "\n",
    "# # def onPendingTickers(tickers):\n",
    "# #     for t in tickers:\n",
    "# #         row = contract2Row[t.contract]\n",
    "# #         df.iloc[row, 1:] = (t.bidSize, t.bid, t.ask, t.askSize, t.high, t.low, t.close)\n",
    "# #         clear_output(wait=True)\n",
    "# #     display(df)        \n",
    "\n",
    "# # ib.pendingTickersEvent += onPendingTickers\n",
    "# # ib.sleep(30)\n",
    "# # ib.pendingTickersEvent -= onPendingTickers"
   ]
  },
  {
   "cell_type": "markdown",
   "metadata": {},
   "source": [
    "##### To stop the live tick subscriptions:"
   ]
  },
  {
   "cell_type": "code",
   "execution_count": 156,
   "metadata": {},
   "outputs": [],
   "source": [
    "for contract in contracts:\n",
    "    ib.cancelMktData(contract)"
   ]
  },
  {
   "cell_type": "code",
   "execution_count": null,
   "metadata": {},
   "outputs": [],
   "source": []
  },
  {
   "cell_type": "code",
   "execution_count": null,
   "metadata": {},
   "outputs": [],
   "source": []
  },
  {
   "cell_type": "code",
   "execution_count": null,
   "metadata": {},
   "outputs": [],
   "source": []
  }
 ],
 "metadata": {
  "kernelspec": {
   "display_name": "tensorflow_env",
   "language": "python",
   "name": "tensorflow_env"
  },
  "language_info": {
   "codemirror_mode": {
    "name": "ipython",
    "version": 3
   },
   "file_extension": ".py",
   "mimetype": "text/x-python",
   "name": "python",
   "nbconvert_exporter": "python",
   "pygments_lexer": "ipython3",
   "version": "3.6.6"
  },
  "toc": {
   "base_numbering": 1,
   "nav_menu": {},
   "number_sections": true,
   "sideBar": true,
   "skip_h1_title": false,
   "title_cell": "Table of Contents",
   "title_sidebar": "Contents",
   "toc_cell": false,
   "toc_position": {},
   "toc_section_display": true,
   "toc_window_display": false
  }
 },
 "nbformat": 4,
 "nbformat_minor": 2
}
